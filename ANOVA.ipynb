{
  "nbformat": 4,
  "nbformat_minor": 0,
  "metadata": {
    "colab": {
      "provenance": [],
      "authorship_tag": "ABX9TyPKafkjglt39BKEVKX+W2EO",
      "include_colab_link": true
    },
    "kernelspec": {
      "name": "python3",
      "display_name": "Python 3"
    },
    "language_info": {
      "name": "python"
    }
  },
  "cells": [
    {
      "cell_type": "markdown",
      "metadata": {
        "id": "view-in-github",
        "colab_type": "text"
      },
      "source": [
        "<a href=\"https://colab.research.google.com/github/NeonLabs146/General_stuffs/blob/main/ANOVA.ipynb\" target=\"_parent\"><img src=\"https://colab.research.google.com/assets/colab-badge.svg\" alt=\"Open In Colab\"/></a>"
      ]
    },
    {
      "cell_type": "markdown",
      "source": [
        "**ANOVA** <p align='justify'> - stands for Analysis of Variance, a statistical method used to determine whether there are significant differences between the means of three or more groups. It helps to assess if at least one group differs significantly from others, indicating that the factor being studied has a significant effect.</P>"
      ],
      "metadata": {
        "id": "6WeAvFsDk2Qo"
      }
    },
    {
      "cell_type": "markdown",
      "source": [
        "**Important in Data Science**\n",
        "1. **Understanding Relationships:**\n",
        "<p align='justify'> It identifies whether an independent variable (e.g., a treatment or category) has a significant impact on a dependent variable (e.g., a numerical outcome like sales or test scores).\n",
        "2. **Feature Selection:**\n",
        "<p align='justify'>Helps in identifying important categorical features that affect the target variable, which is crucial for predictive modeling.\n",
        "3. **Experiment Analysis:**\n",
        "<p align='justify'>Used in A/B testing and other experimental setups to determine if changes (e.g., in a webpage design, teaching method, or advertisement strategy) result in significant outcomes.\n",
        "4. **Efficient Decision-Making:**\n",
        "<p align='justify'>Offers statistical evidence to support decisions in business, healthcare, or research, ensuring data-driven conclusions."
      ],
      "metadata": {
        "id": "y8dtrgvKlJql"
      }
    },
    {
      "cell_type": "markdown",
      "source": [
        "**Types of ANOVA**\n",
        "\n",
        "**One-Way ANOVA:**\n",
        "<p align='justify'>Tests differences between groups based on one independent variable.\n",
        "Example: Testing whether three different diets lead to different weight loss.\n",
        "\n",
        "**Two-Way ANOVA:**\n",
        "<p align='justify'>Tests the effects of two independent variables and their interaction on the dependent variable.\n",
        "Example: Testing the effect of diet and exercise on weight loss.\n"
      ],
      "metadata": {
        "id": "el9AUgJDmMLb"
      }
    },
    {
      "cell_type": "markdown",
      "source": [
        "**Steps in Performing ANOVA**\n",
        "1. **Formulate Hypotheses:**\n",
        "<p align='justify'>Null Hypothesis (H0): All group means are equal.\n",
        "<p align='justify'>Alternative Hypothesis (H1): At least one group mean is different.\n",
        "2. **Compute F-Statistic:**\n",
        "<p align='justify'>Measures the ratio of between-group variance to within-group variance.\n",
        "A higher F-statistic indicates more significant group differences.\n",
        "3. **Evaluate P-Value:**\n",
        "<p align='justify'>If p < significance level (e.g., 0.05), reject the null hypothesis.\n",
        "4. **Post-Hoc Tests:**\n",
        "<p align='justify'>Conduct additional tests (e.g., Tukey's HSD) to pinpoint which groups differ."
      ],
      "metadata": {
        "id": "sEz4QSMnmdMc"
      }
    },
    {
      "cell_type": "markdown",
      "source": [
        "**Example**\n",
        "\n",
        "Scenario:\n",
        "\n",
        "<p align='justify'>A company tests three marketing strategies (A, B, C) to see which results in higher sales. ANOVA can be used to determine if there’s a significant difference in sales across these strategies."
      ],
      "metadata": {
        "id": "6PNHxzRmnROj"
      }
    },
    {
      "cell_type": "code",
      "execution_count": 1,
      "metadata": {
        "colab": {
          "base_uri": "https://localhost:8080/"
        },
        "id": "tO-jtG66kzqD",
        "outputId": "eac0caa4-7e2f-4552-9736-f16d34633fcc"
      },
      "outputs": [
        {
          "output_type": "stream",
          "name": "stdout",
          "text": [
            "ANOVA Results:\n",
            "F-statistic: 30.171\n",
            "P-value: 0.000\n",
            "\n",
            "Conclusion: Significant differences exist between the strategies (p < 0.05).\n"
          ]
        }
      ],
      "source": [
        "import scipy.stats as stats\n",
        "import pandas as pd\n",
        "\n",
        "# Simulated sales data for three strategies\n",
        "data = {\n",
        "    'Strategy A': [200, 220, 240, 210, 230],\n",
        "    'Strategy B': [190, 195, 180, 200, 210],\n",
        "    'Strategy C': [250, 260, 245, 255, 270]\n",
        "}\n",
        "\n",
        "# Convert to DataFrame\n",
        "df = pd.DataFrame(data)\n",
        "\n",
        "# Perform One-Way ANOVA\n",
        "f_stat, p_value = stats.f_oneway(df['Strategy A'], df['Strategy B'], df['Strategy C'])\n",
        "\n",
        "print(\"ANOVA Results:\")\n",
        "print(f\"F-statistic: {f_stat:.3f}\")\n",
        "print(f\"P-value: {p_value:.3f}\")\n",
        "\n",
        "# Interpret the results\n",
        "alpha = 0.05\n",
        "if p_value < alpha:\n",
        "    print(\"\\nConclusion: Significant differences exist between the strategies (p < 0.05).\")\n",
        "else:\n",
        "    print(\"\\nConclusion: No significant differences between the strategies (p >= 0.05).\")"
      ]
    },
    {
      "cell_type": "markdown",
      "source": [
        "**Key Metrics**\n",
        "\n",
        "**F-Statistic:**\n",
        "\n",
        "Measures the ratio of variability between groups to variability within groups.\n",
        "\n",
        "**P-Value:**\n",
        "\n",
        "Indicates whether the observed differences are statistically significant."
      ],
      "metadata": {
        "id": "s3JuxxtyoARc"
      }
    },
    {
      "cell_type": "markdown",
      "source": [
        "**At a Galance**\n",
        "\n",
        "**Insights into Data:**\n",
        "\n",
        "ANOVA provides insights into the relationships and effects of categorical variables.\n",
        "\n",
        "**Improved Modeling:**\n",
        "\n",
        "Identifies influential factors, improving model quality and feature engineering.\n",
        "\n",
        "**Informed Decisions:**\n",
        "\n",
        "Facilitates evidence-based decisions in experiments and product development.\n",
        "By using ANOVA effectively, data scientists can ensure that decisions are statistically sound and backed by data."
      ],
      "metadata": {
        "id": "0Trkk8pyoL7E"
      }
    }
  ]
}