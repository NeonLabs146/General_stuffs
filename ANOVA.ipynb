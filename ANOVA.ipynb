{
  "nbformat": 4,
  "nbformat_minor": 0,
  "metadata": {
    "colab": {
      "provenance": [],
      "authorship_tag": "ABX9TyOdqG/isdxDybi9Ue6qkeb1",
      "include_colab_link": true
    },
    "kernelspec": {
      "name": "python3",
      "display_name": "Python 3"
    },
    "language_info": {
      "name": "python"
    }
  },
  "cells": [
    {
      "cell_type": "markdown",
      "metadata": {
        "id": "view-in-github",
        "colab_type": "text"
      },
      "source": [
        "<a href=\"https://colab.research.google.com/github/NeonLabs146/General_stuffs/blob/main/ANOVA.ipynb\" target=\"_parent\"><img src=\"https://colab.research.google.com/assets/colab-badge.svg\" alt=\"Open In Colab\"/></a>"
      ]
    },
    {
      "cell_type": "markdown",
      "source": [
        "**Example: ANOVA Test Problem:**\n",
        "\n",
        "Three teaching methods are applied to three groups of students, and their scores are recorded. Determine if the teaching method affects the scores significantly."
      ],
      "metadata": {
        "id": "TBEoG3xvDvub"
      }
    },
    {
      "cell_type": "code",
      "execution_count": 1,
      "metadata": {
        "colab": {
          "base_uri": "https://localhost:8080/"
        },
        "id": "M4wCmr5GDtUQ",
        "outputId": "65d56f94-3568-4e65-9eca-3c13eee52e2d"
      },
      "outputs": [
        {
          "output_type": "stream",
          "name": "stdout",
          "text": [
            "Scores Data:\n",
            "   Method A  Method B  Method C\n",
            "0        85        79        88\n",
            "1        86        81        89\n",
            "2        88        78        90\n",
            "3        85        77        91\n",
            "4        87        80        89\n",
            "5        89        82        88\n",
            "6        91        81        90\n",
            "7        92        79        92\n",
            "8        85        80        93\n",
            "9        86        78        91\n",
            "\n",
            "ANOVA Results:\n",
            "F-statistic: 77.436\n",
            "P-value: 0.000\n",
            "\n",
            "Conclusion: The differences between the groups are statistically significant (p < 0.05).\n"
          ]
        }
      ],
      "source": [
        "import scipy.stats as stats\n",
        "import numpy as np\n",
        "import pandas as pd\n",
        "\n",
        "# Simulated data\n",
        "method_A_scores = [85, 86, 88, 85, 87, 89, 91, 92, 85, 86]\n",
        "method_B_scores = [79, 81, 78, 77, 80, 82, 81, 79, 80, 78]\n",
        "method_C_scores = [88, 89, 90, 91, 89, 88, 90, 92, 93, 91]\n",
        "\n",
        "# Combine data into a DataFrame for better visualization\n",
        "data = pd.DataFrame({\n",
        "    'Method A': method_A_scores,\n",
        "    'Method B': method_B_scores,\n",
        "    'Method C': method_C_scores\n",
        "})\n",
        "print(\"Scores Data:\")\n",
        "print(data)\n",
        "\n",
        "# Perform ANOVA test\n",
        "f_stat, p_value = stats.f_oneway(method_A_scores, method_B_scores, method_C_scores)\n",
        "\n",
        "# Print results\n",
        "print(\"\\nANOVA Results:\")\n",
        "print(f\"F-statistic: {f_stat:.3f}\")\n",
        "print(f\"P-value: {p_value:.3f}\")\n",
        "\n",
        "# Interpret the results\n",
        "alpha = 0.05\n",
        "if p_value < alpha:\n",
        "    print(\"\\nConclusion: The differences between the groups are statistically significant (p < 0.05).\")\n",
        "else:\n",
        "    print(\"\\nConclusion: The differences between the groups are not statistically significant (p >= 0.05).\")"
      ]
    },
    {
      "cell_type": "markdown",
      "source": [
        "**ANOVA:**\n",
        "\n",
        "* The stats.f_oneway function from scipy performs the one-way ANOVA test.\n",
        "* f_stat is the test statistic.\n",
        "* p_value helps determine the statistical significance.\n",
        "\n",
        "**Conclusion:**\n",
        "\n",
        "If the p-value is less than the chosen significance level (e.g., 0.05), we reject the null hypothesis, indicating a significant difference between groups."
      ],
      "metadata": {
        "id": "atplrTw_EGbP"
      }
    }
  ]
}