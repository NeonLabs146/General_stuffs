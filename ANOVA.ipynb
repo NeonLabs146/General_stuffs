{
  "nbformat": 4,
  "nbformat_minor": 0,
  "metadata": {
    "colab": {
      "provenance": [],
      "authorship_tag": "ABX9TyNQSYCVUOjpikO9wPaNJNNn",
      "include_colab_link": true
    },
    "kernelspec": {
      "name": "python3",
      "display_name": "Python 3"
    },
    "language_info": {
      "name": "python"
    }
  },
  "cells": [
    {
      "cell_type": "markdown",
      "metadata": {
        "id": "view-in-github",
        "colab_type": "text"
      },
      "source": [
        "<a href=\"https://colab.research.google.com/github/NeonLabs146/General_stuffs/blob/main/ANOVA.ipynb\" target=\"_parent\"><img src=\"https://colab.research.google.com/assets/colab-badge.svg\" alt=\"Open In Colab\"/></a>"
      ]
    },
    {
      "cell_type": "markdown",
      "source": [
        "**ANOVA** <p align='justify'> - stands for Analysis of Variance, a statistical method used to determine whether there are significant differences between the means of three or more groups. It helps to assess if at least one group differs significantly from others, indicating that the factor being studied has a significant effect.</P>"
      ],
      "metadata": {
        "id": "6WeAvFsDk2Qo"
      }
    },
    {
      "cell_type": "markdown",
      "source": [
        "**Important in Data Science**\n",
        "1. **Understanding Relationships:**\n",
        "<p align='justify'> It identifies whether an independent variable (e.g., a treatment or category) has a significant impact on a dependent variable (e.g., a numerical outcome like sales or test scores).\n",
        "2. **Feature Selection:**\n",
        "<p align='justify'>Helps in identifying important categorical features that affect the target variable, which is crucial for predictive modeling.\n",
        "3. **Experiment Analysis:**\n",
        "<p align='justify'>Used in A/B testing and other experimental setups to determine if changes (e.g., in a webpage design, teaching method, or advertisement strategy) result in significant outcomes.\n",
        "4. **Efficient Decision-Making:**\n",
        "<p align='justify'>Offers statistical evidence to support decisions in business, healthcare, or research, ensuring data-driven conclusions."
      ],
      "metadata": {
        "id": "y8dtrgvKlJql"
      }
    },
    {
      "cell_type": "markdown",
      "source": [
        "**Types of ANOVA**\n",
        "\n",
        "**One-Way ANOVA:**\n",
        "<p align='justify'>Tests differences between groups based on one independent variable.\n",
        "Example: Testing whether three different diets lead to different weight loss.\n",
        "\n",
        "**Two-Way ANOVA:**\n",
        "<p align='justify'>Tests the effects of two independent variables and their interaction on the dependent variable.\n",
        "Example: Testing the effect of diet and exercise on weight loss.\n"
      ],
      "metadata": {
        "id": "el9AUgJDmMLb"
      }
    },
    {
      "cell_type": "markdown",
      "source": [
        "**Steps in Performing ANOVA**\n",
        "1. **Formulate Hypotheses:**\n",
        "<p align='justify'>Null Hypothesis (H0): All group means are equal.\n",
        "<p align='justify'>Alternative Hypothesis (H1): At least one group mean is different.\n",
        "2. **Compute F-Statistic:**\n",
        "<p align='justify'>Measures the ratio of between-group variance to within-group variance.\n",
        "A higher F-statistic indicates more significant group differences.\n",
        "3. **Evaluate P-Value:**\n",
        "<p align='justify'>If p < significance level (e.g., 0.05), reject the null hypothesis.\n",
        "4. **Post-Hoc Tests:**\n",
        "<p align='justify'>Conduct additional tests (e.g., Tukey's HSD) to pinpoint which groups differ."
      ],
      "metadata": {
        "id": "sEz4QSMnmdMc"
      }
    },
    {
      "cell_type": "markdown",
      "source": [
        "**Example**\n",
        "\n",
        "Scenario:\n",
        "\n",
        "<p align='justify'>A company tests three marketing strategies (A, B, C) to see which results in higher sales. ANOVA can be used to determine if there’s a significant difference in sales across these strategies."
      ],
      "metadata": {
        "id": "6PNHxzRmnROj"
      }
    },
    {
      "cell_type": "code",
      "execution_count": null,
      "metadata": {
        "id": "tO-jtG66kzqD"
      },
      "outputs": [],
      "source": []
    }
  ]
}