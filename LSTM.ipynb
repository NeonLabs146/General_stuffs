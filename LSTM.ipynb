{
  "nbformat": 4,
  "nbformat_minor": 0,
  "metadata": {
    "colab": {
      "provenance": [],
      "gpuType": "T4",
      "authorship_tag": "ABX9TyP/Nw17KROhIgKbkrVy0jho",
      "include_colab_link": true
    },
    "kernelspec": {
      "name": "python3",
      "display_name": "Python 3"
    },
    "language_info": {
      "name": "python"
    },
    "accelerator": "GPU"
  },
  "cells": [
    {
      "cell_type": "markdown",
      "metadata": {
        "id": "view-in-github",
        "colab_type": "text"
      },
      "source": [
        "<a href=\"https://colab.research.google.com/github/NeonLabs146/General_stuffs/blob/main/LSTM.ipynb\" target=\"_parent\"><img src=\"https://colab.research.google.com/assets/colab-badge.svg\" alt=\"Open In Colab\"/></a>"
      ]
    },
    {
      "cell_type": "markdown",
      "source": [
        "**Next word Predictor**"
      ],
      "metadata": {
        "id": "nz6oq_tMHRsi"
      }
    },
    {
      "cell_type": "code",
      "execution_count": 2,
      "metadata": {
        "id": "ib-_Vl3pFtvX"
      },
      "outputs": [],
      "source": [
        "Abstract = \"\"\"In addition to the title that grabs the reader’s attention, a well-written abstract is important.\n",
        "The abstract is what researchers/scientist reads first to identify whether the article is worth reading.\n",
        "It is suggested to rewrite the abstract after finishing writing the entire manuscript.\n",
        "Superfluous sentences and irrelevant statements should be eliminated.\n",
        "The authors must highlight the novelty of the work. The abstract should be focusing on the following points.\n",
        "What was investigated in the study (State briefly the specific objectives of the study)\n",
        "Why was it done\n",
        "How was it done\n",
        "What are the important findings of the study?\n",
        "What is the significance of the study?\n",
        " \"\"\""
      ]
    },
    {
      "cell_type": "code",
      "source": [
        "import tensorflow as tf\n",
        "from tensorflow.keras.preprocessing.text import Tokenizer"
      ],
      "metadata": {
        "id": "bZZ0AFbfGrHo"
      },
      "execution_count": 3,
      "outputs": []
    },
    {
      "cell_type": "code",
      "source": [
        "tokenizer = Tokenizer()\n",
        "tokenizer.fit_on_texts([Abstract])"
      ],
      "metadata": {
        "id": "UJ555znTG2op"
      },
      "execution_count": 4,
      "outputs": []
    },
    {
      "cell_type": "code",
      "source": [
        "len(tokenizer.word_index)"
      ],
      "metadata": {
        "colab": {
          "base_uri": "https://localhost:8080/"
        },
        "id": "xE_c1QedHBtB",
        "outputId": "2e2ee223-7181-445a-d728-58450816e892"
      },
      "execution_count": 6,
      "outputs": [
        {
          "output_type": "execute_result",
          "data": {
            "text/plain": [
              "64"
            ]
          },
          "metadata": {},
          "execution_count": 6
        }
      ]
    },
    {
      "cell_type": "code",
      "source": [
        "input_sequences = []\n",
        "for sentence in Abstract.split('\\n'):\n",
        "  #print(sentence)\n",
        "  tokenizers = tokenizer.texts_to_sequences([sentence])[0]\n",
        "  #print(tokenizers)\n",
        "  for word in range(1,len(tokenizers)):\n",
        "    input_sequences.append(tokenizers[:word+1])"
      ],
      "metadata": {
        "id": "VVqKJbVXHMqV"
      },
      "execution_count": 7,
      "outputs": []
    },
    {
      "cell_type": "code",
      "source": [
        "input_sequences"
      ],
      "metadata": {
        "colab": {
          "base_uri": "https://localhost:8080/"
        },
        "id": "tTUwQfmRK2q3",
        "outputId": "1fcac487-2bbd-41df-ae44-ab25f826e56d"
      },
      "execution_count": 8,
      "outputs": [
        {
          "output_type": "execute_result",
          "data": {
            "text/plain": [
              "[[10, 15],\n",
              " [10, 15, 7],\n",
              " [10, 15, 7, 1],\n",
              " [10, 15, 7, 1, 16],\n",
              " [10, 15, 7, 1, 16, 17],\n",
              " [10, 15, 7, 1, 16, 17, 18],\n",
              " [10, 15, 7, 1, 16, 17, 18, 1],\n",
              " [10, 15, 7, 1, 16, 17, 18, 1, 19],\n",
              " [10, 15, 7, 1, 16, 17, 18, 1, 19, 20],\n",
              " [10, 15, 7, 1, 16, 17, 18, 1, 19, 20, 21],\n",
              " [10, 15, 7, 1, 16, 17, 18, 1, 19, 20, 21, 22],\n",
              " [10, 15, 7, 1, 16, 17, 18, 1, 19, 20, 21, 22, 23],\n",
              " [10, 15, 7, 1, 16, 17, 18, 1, 19, 20, 21, 22, 23, 3],\n",
              " [10, 15, 7, 1, 16, 17, 18, 1, 19, 20, 21, 22, 23, 3, 2],\n",
              " [10, 15, 7, 1, 16, 17, 18, 1, 19, 20, 21, 22, 23, 3, 2, 11],\n",
              " [1, 3],\n",
              " [1, 3, 2],\n",
              " [1, 3, 2, 4],\n",
              " [1, 3, 2, 4, 24],\n",
              " [1, 3, 2, 4, 24, 25],\n",
              " [1, 3, 2, 4, 24, 25, 26],\n",
              " [1, 3, 2, 4, 24, 25, 26, 27],\n",
              " [1, 3, 2, 4, 24, 25, 26, 27, 7],\n",
              " [1, 3, 2, 4, 24, 25, 26, 27, 7, 28],\n",
              " [1, 3, 2, 4, 24, 25, 26, 27, 7, 28, 29],\n",
              " [1, 3, 2, 4, 24, 25, 26, 27, 7, 28, 29, 1],\n",
              " [1, 3, 2, 4, 24, 25, 26, 27, 7, 28, 29, 1, 30],\n",
              " [1, 3, 2, 4, 24, 25, 26, 27, 7, 28, 29, 1, 30, 2],\n",
              " [1, 3, 2, 4, 24, 25, 26, 27, 7, 28, 29, 1, 30, 2, 31],\n",
              " [1, 3, 2, 4, 24, 25, 26, 27, 7, 28, 29, 1, 30, 2, 31, 32],\n",
              " [8, 2],\n",
              " [8, 2, 33],\n",
              " [8, 2, 33, 7],\n",
              " [8, 2, 33, 7, 34],\n",
              " [8, 2, 33, 7, 34, 1],\n",
              " [8, 2, 33, 7, 34, 1, 3],\n",
              " [8, 2, 33, 7, 34, 1, 3, 35],\n",
              " [8, 2, 33, 7, 34, 1, 3, 35, 36],\n",
              " [8, 2, 33, 7, 34, 1, 3, 35, 36, 37],\n",
              " [8, 2, 33, 7, 34, 1, 3, 35, 36, 37, 1],\n",
              " [8, 2, 33, 7, 34, 1, 3, 35, 36, 37, 1, 38],\n",
              " [8, 2, 33, 7, 34, 1, 3, 35, 36, 37, 1, 38, 39],\n",
              " [40, 41],\n",
              " [40, 41, 42],\n",
              " [40, 41, 42, 43],\n",
              " [40, 41, 42, 43, 44],\n",
              " [40, 41, 42, 43, 44, 12],\n",
              " [40, 41, 42, 43, 44, 12, 13],\n",
              " [40, 41, 42, 43, 44, 12, 13, 45],\n",
              " [1, 46],\n",
              " [1, 46, 47],\n",
              " [1, 46, 47, 48],\n",
              " [1, 46, 47, 48, 1],\n",
              " [1, 46, 47, 48, 1, 49],\n",
              " [1, 46, 47, 48, 1, 49, 5],\n",
              " [1, 46, 47, 48, 1, 49, 5, 1],\n",
              " [1, 46, 47, 48, 1, 49, 5, 1, 50],\n",
              " [1, 46, 47, 48, 1, 49, 5, 1, 50, 1],\n",
              " [1, 46, 47, 48, 1, 49, 5, 1, 50, 1, 3],\n",
              " [1, 46, 47, 48, 1, 49, 5, 1, 50, 1, 3, 12],\n",
              " [1, 46, 47, 48, 1, 49, 5, 1, 50, 1, 3, 12, 13],\n",
              " [1, 46, 47, 48, 1, 49, 5, 1, 50, 1, 3, 12, 13, 51],\n",
              " [1, 46, 47, 48, 1, 49, 5, 1, 50, 1, 3, 12, 13, 51, 52],\n",
              " [1, 46, 47, 48, 1, 49, 5, 1, 50, 1, 3, 12, 13, 51, 52, 1],\n",
              " [1, 46, 47, 48, 1, 49, 5, 1, 50, 1, 3, 12, 13, 51, 52, 1, 53],\n",
              " [1, 46, 47, 48, 1, 49, 5, 1, 50, 1, 3, 12, 13, 51, 52, 1, 53, 54],\n",
              " [4, 9],\n",
              " [4, 9, 55],\n",
              " [4, 9, 55, 10],\n",
              " [4, 9, 55, 10, 1],\n",
              " [4, 9, 55, 10, 1, 6],\n",
              " [4, 9, 55, 10, 1, 6, 56],\n",
              " [4, 9, 55, 10, 1, 6, 56, 57],\n",
              " [4, 9, 55, 10, 1, 6, 56, 57, 1],\n",
              " [4, 9, 55, 10, 1, 6, 56, 57, 1, 58],\n",
              " [4, 9, 55, 10, 1, 6, 56, 57, 1, 58, 59],\n",
              " [4, 9, 55, 10, 1, 6, 56, 57, 1, 58, 59, 5],\n",
              " [4, 9, 55, 10, 1, 6, 56, 57, 1, 58, 59, 5, 1],\n",
              " [4, 9, 55, 10, 1, 6, 56, 57, 1, 58, 59, 5, 1, 6],\n",
              " [60, 9],\n",
              " [60, 9, 8],\n",
              " [60, 9, 8, 14],\n",
              " [61, 9],\n",
              " [61, 9, 8],\n",
              " [61, 9, 8, 14],\n",
              " [4, 62],\n",
              " [4, 62, 1],\n",
              " [4, 62, 1, 11],\n",
              " [4, 62, 1, 11, 63],\n",
              " [4, 62, 1, 11, 63, 5],\n",
              " [4, 62, 1, 11, 63, 5, 1],\n",
              " [4, 62, 1, 11, 63, 5, 1, 6],\n",
              " [4, 2],\n",
              " [4, 2, 1],\n",
              " [4, 2, 1, 64],\n",
              " [4, 2, 1, 64, 5],\n",
              " [4, 2, 1, 64, 5, 1],\n",
              " [4, 2, 1, 64, 5, 1, 6]]"
            ]
          },
          "metadata": {},
          "execution_count": 8
        }
      ]
    },
    {
      "cell_type": "code",
      "source": [
        "max_len = max([len(x) for x in input_sequences])"
      ],
      "metadata": {
        "id": "hj1uO2SHK5K7"
      },
      "execution_count": 9,
      "outputs": []
    },
    {
      "cell_type": "code",
      "source": [
        "from tensorflow.keras.preprocessing.sequence import pad_sequences\n",
        "padded_sequences = pad_sequences(input_sequences,maxlen=max_len,padding='pre')"
      ],
      "metadata": {
        "id": "XJqJZG8Elymn"
      },
      "execution_count": 10,
      "outputs": []
    },
    {
      "cell_type": "code",
      "source": [
        "X= padded_sequences[:,:-1]\n",
        "y= padded_sequences[:,-1]"
      ],
      "metadata": {
        "id": "Za2ZCEwSmON9"
      },
      "execution_count": 11,
      "outputs": []
    },
    {
      "cell_type": "code",
      "source": [
        "X.shape,y.shape"
      ],
      "metadata": {
        "colab": {
          "base_uri": "https://localhost:8080/"
        },
        "id": "NHDD_AVZmnSk",
        "outputId": "500085f1-525b-44df-cfa4-25a4eff306e3"
      },
      "execution_count": 12,
      "outputs": [
        {
          "output_type": "execute_result",
          "data": {
            "text/plain": [
              "((98, 17), (98,))"
            ]
          },
          "metadata": {},
          "execution_count": 12
        }
      ]
    },
    {
      "cell_type": "code",
      "source": [
        "from tensorflow.keras.utils import to_categorical\n",
        "y= to_categorical(y,num_classes=len(tokenizer.word_index)+1)"
      ],
      "metadata": {
        "id": "roKrcmJ5nvk0"
      },
      "execution_count": 13,
      "outputs": []
    },
    {
      "cell_type": "code",
      "source": [
        "y.shape"
      ],
      "metadata": {
        "colab": {
          "base_uri": "https://localhost:8080/"
        },
        "id": "QNBoN2NCouSm",
        "outputId": "30d67a7b-a212-40a4-ea31-d3c6fab6a942"
      },
      "execution_count": 14,
      "outputs": [
        {
          "output_type": "execute_result",
          "data": {
            "text/plain": [
              "(98, 65)"
            ]
          },
          "metadata": {},
          "execution_count": 14
        }
      ]
    },
    {
      "cell_type": "code",
      "source": [
        "from tensorflow.keras.models import Sequential\n",
        "from tensorflow.keras.layers import Embedding,LSTM,Dense"
      ],
      "metadata": {
        "id": "XNCbsnBTpCDy"
      },
      "execution_count": 15,
      "outputs": []
    },
    {
      "cell_type": "code",
      "source": [
        "model = Sequential()\n",
        "model.add(Embedding(input_dim=len(tokenizer.word_index)+1,output_dim=100,input_length=max_len-1))\n",
        "model.add(LSTM(256))\n",
        "model.add(Dense(len(tokenizer.word_index)+1,activation='softmax'))"
      ],
      "metadata": {
        "id": "VGUd6DGcpJQ1"
      },
      "execution_count": 28,
      "outputs": []
    },
    {
      "cell_type": "code",
      "source": [
        "model.compile(loss='categorical_crossentropy',optimizer='adam',metrics=['accuracy'])"
      ],
      "metadata": {
        "id": "8_rdbyHKplrZ"
      },
      "execution_count": 29,
      "outputs": []
    },
    {
      "cell_type": "code",
      "source": [
        "model.summary()"
      ],
      "metadata": {
        "colab": {
          "base_uri": "https://localhost:8080/"
        },
        "id": "k_AOz6hIptSm",
        "outputId": "591c63a4-e921-4476-a83c-64e258d3b552"
      },
      "execution_count": 30,
      "outputs": [
        {
          "output_type": "stream",
          "name": "stdout",
          "text": [
            "Model: \"sequential_3\"\n",
            "_________________________________________________________________\n",
            " Layer (type)                Output Shape              Param #   \n",
            "=================================================================\n",
            " embedding_3 (Embedding)     (None, 17, 100)           6500      \n",
            "                                                                 \n",
            " lstm_3 (LSTM)               (None, 256)               365568    \n",
            "                                                                 \n",
            " dense_3 (Dense)             (None, 65)                16705     \n",
            "                                                                 \n",
            "=================================================================\n",
            "Total params: 388773 (1.48 MB)\n",
            "Trainable params: 388773 (1.48 MB)\n",
            "Non-trainable params: 0 (0.00 Byte)\n",
            "_________________________________________________________________\n"
          ]
        }
      ]
    },
    {
      "cell_type": "code",
      "source": [
        " model.fit(X,y,epochs=100)"
      ],
      "metadata": {
        "colab": {
          "base_uri": "https://localhost:8080/"
        },
        "id": "n1OyT9V8p5dC",
        "outputId": "5329d8a5-6e5a-4809-cb72-2ec71f86163a"
      },
      "execution_count": 31,
      "outputs": [
        {
          "output_type": "stream",
          "name": "stdout",
          "text": [
            "Epoch 1/100\n",
            "4/4 [==============================] - 3s 68ms/step - loss: 4.1723 - accuracy: 0.0816\n",
            "Epoch 2/100\n",
            "4/4 [==============================] - 0s 100ms/step - loss: 4.1253 - accuracy: 0.1633\n",
            "Epoch 3/100\n",
            "4/4 [==============================] - 0s 69ms/step - loss: 3.9621 - accuracy: 0.1633\n",
            "Epoch 4/100\n",
            "4/4 [==============================] - 0s 66ms/step - loss: 3.8237 - accuracy: 0.1633\n",
            "Epoch 5/100\n",
            "4/4 [==============================] - 0s 71ms/step - loss: 3.8229 - accuracy: 0.1633\n",
            "Epoch 6/100\n",
            "4/4 [==============================] - 0s 68ms/step - loss: 3.7918 - accuracy: 0.1633\n",
            "Epoch 7/100\n",
            "4/4 [==============================] - 0s 38ms/step - loss: 3.7797 - accuracy: 0.1633\n",
            "Epoch 8/100\n",
            "4/4 [==============================] - 0s 6ms/step - loss: 3.8092 - accuracy: 0.1735\n",
            "Epoch 9/100\n",
            "4/4 [==============================] - 0s 38ms/step - loss: 3.7805 - accuracy: 0.1633\n",
            "Epoch 10/100\n",
            "4/4 [==============================] - 0s 38ms/step - loss: 3.7707 - accuracy: 0.1633\n",
            "Epoch 11/100\n",
            "4/4 [==============================] - 0s 39ms/step - loss: 3.7190 - accuracy: 0.1633\n",
            "Epoch 12/100\n",
            "4/4 [==============================] - 0s 37ms/step - loss: 3.7868 - accuracy: 0.1633\n",
            "Epoch 13/100\n",
            "4/4 [==============================] - 0s 7ms/step - loss: 3.7312 - accuracy: 0.1633\n",
            "Epoch 14/100\n",
            "4/4 [==============================] - 0s 7ms/step - loss: 3.7134 - accuracy: 0.1633\n",
            "Epoch 15/100\n",
            "4/4 [==============================] - 0s 37ms/step - loss: 3.6917 - accuracy: 0.1633\n",
            "Epoch 16/100\n",
            "4/4 [==============================] - 0s 7ms/step - loss: 3.6771 - accuracy: 0.1633\n",
            "Epoch 17/100\n",
            "4/4 [==============================] - 0s 7ms/step - loss: 3.6603 - accuracy: 0.1633\n",
            "Epoch 18/100\n",
            "4/4 [==============================] - 0s 38ms/step - loss: 3.6378 - accuracy: 0.1633\n",
            "Epoch 19/100\n",
            "4/4 [==============================] - 0s 7ms/step - loss: 3.6032 - accuracy: 0.1633\n",
            "Epoch 20/100\n",
            "4/4 [==============================] - 0s 7ms/step - loss: 3.5757 - accuracy: 0.1633\n",
            "Epoch 21/100\n",
            "4/4 [==============================] - 0s 7ms/step - loss: 3.5362 - accuracy: 0.1633\n",
            "Epoch 22/100\n",
            "4/4 [==============================] - 0s 37ms/step - loss: 3.4953 - accuracy: 0.1735\n",
            "Epoch 23/100\n",
            "4/4 [==============================] - 0s 8ms/step - loss: 3.4203 - accuracy: 0.1633\n",
            "Epoch 24/100\n",
            "4/4 [==============================] - 0s 7ms/step - loss: 3.4102 - accuracy: 0.1735\n",
            "Epoch 25/100\n",
            "4/4 [==============================] - 0s 7ms/step - loss: 3.3275 - accuracy: 0.1735\n",
            "Epoch 26/100\n",
            "4/4 [==============================] - 0s 60ms/step - loss: 3.2833 - accuracy: 0.1837\n",
            "Epoch 27/100\n",
            "4/4 [==============================] - 0s 37ms/step - loss: 3.2288 - accuracy: 0.1837\n",
            "Epoch 28/100\n",
            "4/4 [==============================] - 0s 8ms/step - loss: 3.1888 - accuracy: 0.1939\n",
            "Epoch 29/100\n",
            "4/4 [==============================] - 0s 7ms/step - loss: 3.1571 - accuracy: 0.1837\n",
            "Epoch 30/100\n",
            "4/4 [==============================] - 0s 7ms/step - loss: 3.1517 - accuracy: 0.1633\n",
            "Epoch 31/100\n",
            "4/4 [==============================] - 0s 7ms/step - loss: 3.0809 - accuracy: 0.1531\n",
            "Epoch 32/100\n",
            "4/4 [==============================] - 0s 7ms/step - loss: 3.0652 - accuracy: 0.1837\n",
            "Epoch 33/100\n",
            "4/4 [==============================] - 0s 7ms/step - loss: 3.0263 - accuracy: 0.1837\n",
            "Epoch 34/100\n",
            "4/4 [==============================] - 0s 7ms/step - loss: 2.9995 - accuracy: 0.2041\n",
            "Epoch 35/100\n",
            "4/4 [==============================] - 0s 7ms/step - loss: 2.9149 - accuracy: 0.2245\n",
            "Epoch 36/100\n",
            "4/4 [==============================] - 0s 37ms/step - loss: 2.9031 - accuracy: 0.2551\n",
            "Epoch 37/100\n",
            "4/4 [==============================] - 0s 7ms/step - loss: 2.7897 - accuracy: 0.2347\n",
            "Epoch 38/100\n",
            "4/4 [==============================] - 0s 7ms/step - loss: 2.7586 - accuracy: 0.2347\n",
            "Epoch 39/100\n",
            "4/4 [==============================] - 0s 7ms/step - loss: 2.6948 - accuracy: 0.2551\n",
            "Epoch 40/100\n",
            "4/4 [==============================] - 0s 6ms/step - loss: 2.6147 - accuracy: 0.2959\n",
            "Epoch 41/100\n",
            "4/4 [==============================] - 0s 7ms/step - loss: 2.5589 - accuracy: 0.2653\n",
            "Epoch 42/100\n",
            "4/4 [==============================] - 0s 6ms/step - loss: 2.4837 - accuracy: 0.2755\n",
            "Epoch 43/100\n",
            "4/4 [==============================] - 0s 6ms/step - loss: 2.4263 - accuracy: 0.2755\n",
            "Epoch 44/100\n",
            "4/4 [==============================] - 0s 38ms/step - loss: 2.4052 - accuracy: 0.2959\n",
            "Epoch 45/100\n",
            "4/4 [==============================] - 0s 7ms/step - loss: 2.3367 - accuracy: 0.3163\n",
            "Epoch 46/100\n",
            "4/4 [==============================] - 0s 7ms/step - loss: 2.2636 - accuracy: 0.3265\n",
            "Epoch 47/100\n",
            "4/4 [==============================] - 0s 39ms/step - loss: 2.3085 - accuracy: 0.3061\n",
            "Epoch 48/100\n",
            "4/4 [==============================] - 0s 8ms/step - loss: 2.2333 - accuracy: 0.3265\n",
            "Epoch 49/100\n",
            "4/4 [==============================] - 0s 6ms/step - loss: 2.2079 - accuracy: 0.3673\n",
            "Epoch 50/100\n",
            "4/4 [==============================] - 0s 36ms/step - loss: 2.1517 - accuracy: 0.4388\n",
            "Epoch 51/100\n",
            "4/4 [==============================] - 0s 8ms/step - loss: 2.0281 - accuracy: 0.4388\n",
            "Epoch 52/100\n",
            "4/4 [==============================] - 0s 7ms/step - loss: 1.9968 - accuracy: 0.4286\n",
            "Epoch 53/100\n",
            "4/4 [==============================] - 0s 7ms/step - loss: 1.9830 - accuracy: 0.4184\n",
            "Epoch 54/100\n",
            "4/4 [==============================] - 0s 7ms/step - loss: 1.9851 - accuracy: 0.4082\n",
            "Epoch 55/100\n",
            "4/4 [==============================] - 0s 38ms/step - loss: 1.9035 - accuracy: 0.4898\n",
            "Epoch 56/100\n",
            "4/4 [==============================] - 0s 7ms/step - loss: 1.8637 - accuracy: 0.5000\n",
            "Epoch 57/100\n",
            "4/4 [==============================] - 0s 6ms/step - loss: 1.7948 - accuracy: 0.4898\n",
            "Epoch 58/100\n",
            "4/4 [==============================] - 0s 7ms/step - loss: 1.7295 - accuracy: 0.4898\n",
            "Epoch 59/100\n",
            "4/4 [==============================] - 0s 7ms/step - loss: 1.6392 - accuracy: 0.5918\n",
            "Epoch 60/100\n",
            "4/4 [==============================] - 0s 68ms/step - loss: 1.6108 - accuracy: 0.5918\n",
            "Epoch 61/100\n",
            "4/4 [==============================] - 0s 7ms/step - loss: 1.6099 - accuracy: 0.5612\n",
            "Epoch 62/100\n",
            "4/4 [==============================] - 0s 7ms/step - loss: 1.4910 - accuracy: 0.5918\n",
            "Epoch 63/100\n",
            "4/4 [==============================] - 0s 7ms/step - loss: 1.4472 - accuracy: 0.5816\n",
            "Epoch 64/100\n",
            "4/4 [==============================] - 0s 9ms/step - loss: 1.4845 - accuracy: 0.6020\n",
            "Epoch 65/100\n",
            "4/4 [==============================] - 0s 57ms/step - loss: 1.4684 - accuracy: 0.6020\n",
            "Epoch 66/100\n",
            "4/4 [==============================] - 0s 7ms/step - loss: 1.4767 - accuracy: 0.5816\n",
            "Epoch 67/100\n",
            "4/4 [==============================] - 0s 7ms/step - loss: 1.3951 - accuracy: 0.5816\n",
            "Epoch 68/100\n",
            "4/4 [==============================] - 0s 7ms/step - loss: 1.4108 - accuracy: 0.5510\n",
            "Epoch 69/100\n",
            "4/4 [==============================] - 0s 7ms/step - loss: 1.3489 - accuracy: 0.6224\n",
            "Epoch 70/100\n",
            "4/4 [==============================] - 0s 7ms/step - loss: 1.2991 - accuracy: 0.6020\n",
            "Epoch 71/100\n",
            "4/4 [==============================] - 0s 7ms/step - loss: 1.2306 - accuracy: 0.6327\n",
            "Epoch 72/100\n",
            "4/4 [==============================] - 0s 7ms/step - loss: 1.2229 - accuracy: 0.6735\n",
            "Epoch 73/100\n",
            "4/4 [==============================] - 0s 7ms/step - loss: 1.1088 - accuracy: 0.7449\n",
            "Epoch 74/100\n",
            "4/4 [==============================] - 0s 7ms/step - loss: 1.0873 - accuracy: 0.7653\n",
            "Epoch 75/100\n",
            "4/4 [==============================] - 0s 7ms/step - loss: 1.0799 - accuracy: 0.8061\n",
            "Epoch 76/100\n",
            "4/4 [==============================] - 0s 6ms/step - loss: 1.0603 - accuracy: 0.7959\n",
            "Epoch 77/100\n",
            "4/4 [==============================] - 0s 6ms/step - loss: 0.9959 - accuracy: 0.7755\n",
            "Epoch 78/100\n",
            "4/4 [==============================] - 0s 6ms/step - loss: 0.9779 - accuracy: 0.7653\n",
            "Epoch 79/100\n",
            "4/4 [==============================] - 0s 9ms/step - loss: 0.9517 - accuracy: 0.7449\n",
            "Epoch 80/100\n",
            "4/4 [==============================] - 0s 7ms/step - loss: 0.9358 - accuracy: 0.7857\n",
            "Epoch 81/100\n",
            "4/4 [==============================] - 0s 7ms/step - loss: 0.8632 - accuracy: 0.8061\n",
            "Epoch 82/100\n",
            "4/4 [==============================] - 0s 7ms/step - loss: 0.8536 - accuracy: 0.8061\n",
            "Epoch 83/100\n",
            "4/4 [==============================] - 0s 36ms/step - loss: 0.8418 - accuracy: 0.8163\n",
            "Epoch 84/100\n",
            "4/4 [==============================] - 0s 9ms/step - loss: 0.8087 - accuracy: 0.8163\n",
            "Epoch 85/100\n",
            "4/4 [==============================] - 0s 7ms/step - loss: 0.7599 - accuracy: 0.8469\n",
            "Epoch 86/100\n",
            "4/4 [==============================] - 0s 7ms/step - loss: 0.7213 - accuracy: 0.8673\n",
            "Epoch 87/100\n",
            "4/4 [==============================] - 0s 8ms/step - loss: 0.7214 - accuracy: 0.8265\n",
            "Epoch 88/100\n",
            "4/4 [==============================] - 0s 7ms/step - loss: 0.7078 - accuracy: 0.8163\n",
            "Epoch 89/100\n",
            "4/4 [==============================] - 0s 7ms/step - loss: 0.6575 - accuracy: 0.8776\n",
            "Epoch 90/100\n",
            "4/4 [==============================] - 0s 7ms/step - loss: 0.6674 - accuracy: 0.8776\n",
            "Epoch 91/100\n",
            "4/4 [==============================] - 0s 7ms/step - loss: 0.6411 - accuracy: 0.8878\n",
            "Epoch 92/100\n",
            "4/4 [==============================] - 0s 6ms/step - loss: 0.5907 - accuracy: 0.8980\n",
            "Epoch 93/100\n",
            "4/4 [==============================] - 0s 7ms/step - loss: 0.5739 - accuracy: 0.8878\n",
            "Epoch 94/100\n",
            "4/4 [==============================] - 0s 7ms/step - loss: 0.5619 - accuracy: 0.8980\n",
            "Epoch 95/100\n",
            "4/4 [==============================] - 0s 7ms/step - loss: 0.5469 - accuracy: 0.9082\n",
            "Epoch 96/100\n",
            "4/4 [==============================] - 0s 7ms/step - loss: 0.5281 - accuracy: 0.9286\n",
            "Epoch 97/100\n",
            "4/4 [==============================] - 0s 7ms/step - loss: 0.5112 - accuracy: 0.8980\n",
            "Epoch 98/100\n",
            "4/4 [==============================] - 0s 7ms/step - loss: 0.4994 - accuracy: 0.9082\n",
            "Epoch 99/100\n",
            "4/4 [==============================] - 0s 7ms/step - loss: 0.4807 - accuracy: 0.9184\n",
            "Epoch 100/100\n",
            "4/4 [==============================] - 0s 7ms/step - loss: 0.4759 - accuracy: 0.9286\n"
          ]
        },
        {
          "output_type": "execute_result",
          "data": {
            "text/plain": [
              "<keras.src.callbacks.History at 0x7a0f29bc2f80>"
            ]
          },
          "metadata": {},
          "execution_count": 31
        }
      ]
    },
    {
      "cell_type": "code",
      "source": [
        "import numpy as np\n",
        "import time\n",
        "text = 'in addition'\n",
        "\n",
        "for i in range(8):\n",
        "  #tokenize\n",
        "  token_text = tokenizer.texts_to_sequences([text])[0]\n",
        "  #pad\n",
        "  padded_text = pad_sequences([token_text],maxlen=max_len-1,padding='pre')\n",
        "  #print(padded_text)\n",
        "  #predict\n",
        "  model.predict(padded_text).shape\n",
        "\n",
        "  pos = np.argmax(model.predict(padded_text))\n",
        "  for word,index in tokenizer.word_index.items():\n",
        "    if index == pos:\n",
        "      text = text + \" \" + word\n",
        "      print(text)\n",
        "  time.sleep(1)"
      ],
      "metadata": {
        "colab": {
          "base_uri": "https://localhost:8080/"
        },
        "id": "0qe_DJvxsZlO",
        "outputId": "a9c19b40-cc80-444d-a281-353255f15ba2"
      },
      "execution_count": 49,
      "outputs": [
        {
          "output_type": "stream",
          "name": "stdout",
          "text": [
            "1/1 [==============================] - 0s 20ms/step\n",
            "1/1 [==============================] - 0s 18ms/step\n",
            "in addition to\n",
            "1/1 [==============================] - 0s 17ms/step\n",
            "1/1 [==============================] - 0s 17ms/step\n",
            "in addition to the\n",
            "1/1 [==============================] - 0s 18ms/step\n",
            "1/1 [==============================] - 0s 17ms/step\n",
            "in addition to the title\n",
            "1/1 [==============================] - 0s 20ms/step\n",
            "1/1 [==============================] - 0s 20ms/step\n",
            "in addition to the title that\n",
            "1/1 [==============================] - 0s 19ms/step\n",
            "1/1 [==============================] - 0s 19ms/step\n",
            "in addition to the title that grabs\n",
            "1/1 [==============================] - 0s 19ms/step\n",
            "1/1 [==============================] - 0s 19ms/step\n",
            "in addition to the title that grabs the\n",
            "1/1 [==============================] - 0s 18ms/step\n",
            "1/1 [==============================] - 0s 18ms/step\n",
            "in addition to the title that grabs the reader’s\n",
            "1/1 [==============================] - 0s 18ms/step\n",
            "1/1 [==============================] - 0s 21ms/step\n",
            "in addition to the title that grabs the reader’s attention\n"
          ]
        }
      ]
    }
  ]
}